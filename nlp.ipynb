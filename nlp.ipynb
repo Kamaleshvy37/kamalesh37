{
  "nbformat": 4,
  "nbformat_minor": 0,
  "metadata": {
    "colab": {
      "provenance": []
    },
    "kernelspec": {
      "name": "python3",
      "display_name": "Python 3"
    },
    "language_info": {
      "name": "python"
    }
  },
  "cells": [
    {
      "cell_type": "code",
      "execution_count": 1,
      "metadata": {
        "colab": {
          "base_uri": "https://localhost:8080/"
        },
        "id": "LQVwwmXcRB8Y",
        "outputId": "3014cab2-0016-43a5-c64d-23e4e81d3f8f"
      },
      "outputs": [
        {
          "output_type": "stream",
          "name": "stdout",
          "text": [
            " i am going \n",
            "college for \n",
            "learning nlp\n"
          ]
        }
      ],
      "source": [
        "print(\" i am going \\ncollege for \\nlearning nlp\")"
      ]
    },
    {
      "cell_type": "code",
      "source": [
        "print(\" i am going \\ncollege for\\tlearning nlp\")"
      ],
      "metadata": {
        "colab": {
          "base_uri": "https://localhost:8080/"
        },
        "id": "samszjFFRPhd",
        "outputId": "55f2a63d-c76a-425a-da61-07c5fca41aab"
      },
      "execution_count": 2,
      "outputs": [
        {
          "output_type": "stream",
          "name": "stdout",
          "text": [
            " i am going \n",
            "college for\tlearning nlp\n"
          ]
        }
      ]
    },
    {
      "cell_type": "code",
      "source": [
        "print(\" i am going college for\\rlearning nlp\")"
      ],
      "metadata": {
        "colab": {
          "base_uri": "https://localhost:8080/"
        },
        "id": "wLT69aOcSOF5",
        "outputId": "65b5e6e7-6053-4559-c8ea-a0538fd23dc4"
      },
      "execution_count": 6,
      "outputs": [
        {
          "output_type": "stream",
          "name": "stdout",
          "text": [
            " i am going college for\rlearning nlp\n"
          ]
        }
      ]
    },
    {
      "cell_type": "code",
      "source": [
        "import re"
      ],
      "metadata": {
        "id": "T4Pn7UrbSWVY"
      },
      "execution_count": 7,
      "outputs": []
    },
    {
      "cell_type": "code",
      "source": [
        "string=\"333 is the jersy of universal boss in cricket\"\n",
        "pattren=r'\\d+'\n",
        "matching=re.match(pattren,string)\n",
        "matching.group()"
      ],
      "metadata": {
        "colab": {
          "base_uri": "https://localhost:8080/",
          "height": 35
        },
        "id": "T7d0jRjFTRxc",
        "outputId": "d3b9aa92-864e-4602-c562-ec22a169dc83"
      },
      "execution_count": 10,
      "outputs": [
        {
          "output_type": "execute_result",
          "data": {
            "text/plain": [
              "'333'"
            ],
            "application/vnd.google.colaboratory.intrinsic+json": {
              "type": "string"
            }
          },
          "metadata": {},
          "execution_count": 10
        }
      ]
    },
    {
      "cell_type": "code",
      "source": [
        "import re\n",
        "pattren=r'\\d+'\n",
        "string=\"333 is the jersy of universal boss in cricket\"\n",
        "matching=re.search(pattren,string)\n",
        "matching.group()"
      ],
      "metadata": {
        "colab": {
          "base_uri": "https://localhost:8080/",
          "height": 35
        },
        "id": "lqSLts1FUUzx",
        "outputId": "61e2eccd-ddd8-4576-c188-99f3176eb671"
      },
      "execution_count": 14,
      "outputs": [
        {
          "output_type": "execute_result",
          "data": {
            "text/plain": [
              "'333'"
            ],
            "application/vnd.google.colaboratory.intrinsic+json": {
              "type": "string"
            }
          },
          "metadata": {},
          "execution_count": 14
        }
      ]
    },
    {
      "cell_type": "code",
      "source": [
        "import re\n",
        "pattren=r'\\d+'\n",
        "string=\"the jersy of 333 universal 18 boss 17 in cricket\"\n",
        "matching=re.findall(pattren,string)\n",
        "matching"
      ],
      "metadata": {
        "colab": {
          "base_uri": "https://localhost:8080/"
        },
        "id": "sZ_2eBxkU4uV",
        "outputId": "d9bb900b-f3d5-4da5-f4c6-6cf6cd7d6a69"
      },
      "execution_count": 20,
      "outputs": [
        {
          "output_type": "execute_result",
          "data": {
            "text/plain": [
              "['333', '18', '17']"
            ]
          },
          "metadata": {},
          "execution_count": 20
        }
      ]
    },
    {
      "cell_type": "code",
      "source": [
        "import re\n",
        "pattren=r'\\d+'\n",
        "string=\"the jersy number of universal boss is * in cricket\"\n",
        "matching=re.sub(pattren,'$',string)\n",
        "matching"
      ],
      "metadata": {
        "colab": {
          "base_uri": "https://localhost:8080/",
          "height": 35
        },
        "id": "8seTlqU7Vr8s",
        "outputId": "90a64261-c520-4fc3-f8e1-bf4e62047821"
      },
      "execution_count": 28,
      "outputs": [
        {
          "output_type": "execute_result",
          "data": {
            "text/plain": [
              "'the jersy number of universal boss is * in cricket'"
            ],
            "application/vnd.google.colaboratory.intrinsic+json": {
              "type": "string"
            }
          },
          "metadata": {},
          "execution_count": 28
        }
      ]
    },
    {
      "cell_type": "code",
      "source": [
        "import re\n",
        "from bs4 import BeautifulSoup\n",
        "\n",
        "def clean_text(text):\n",
        "    emails = re.findall(r'[a-zA-Z0-9._%+-]+@[a-zA-Z0-9.-]+\\.[a-zA-Z]{2,}', text)\n",
        "    hashtags = re.findall(r'#\\w+', text)\n",
        "    text = BeautifulSoup(text, \"html.parser\").get_text()\n",
        "    text = re.sub(r'\\d+', '', text)\n",
        "    text = re.sub(r'\\s+', ' ', text).strip()\n",
        "    return text, emails, hashtags\n",
        "text = \"\"\"\n",
        "Hello, contact us at support@example.com for more details.\n",
        "Visit our page: <a href='https://example.com'>Example</a>.\n",
        "Trending topics: #AI #MachineLearning2024\n",
        "Our discount code: 50OFF is valid till 2025.\n",
        "\"\"\"\n",
        "cleaned_text, extracted_emails, extracted_hashtags = clean_text(text)\n",
        "print(\"Cleaned Text:\", cleaned_text)\n",
        "print(\"Emails:\", extracted_emails)\n",
        "print(\"Hashtags:\", extracted_hashtags)"
      ],
      "metadata": {
        "colab": {
          "base_uri": "https://localhost:8080/"
        },
        "id": "OWrQK_buWv_v",
        "outputId": "72b866f8-18a2-4b9c-aaf1-25fee89453f4"
      },
      "execution_count": 29,
      "outputs": [
        {
          "output_type": "stream",
          "name": "stdout",
          "text": [
            "Cleaned Text: Hello, contact us at support@example.com for more details. Visit our page: Example. Trending topics: #AI #MachineLearning Our discount code: OFF is valid till .\n",
            "Emails: ['support@example.com']\n",
            "Hashtags: ['#AI', '#MachineLearning2024']\n"
          ]
        }
      ]
    },
    {
      "cell_type": "code",
      "source": [],
      "metadata": {
        "id": "loYP2BGWYeYK"
      },
      "execution_count": null,
      "outputs": []
    }
  ]
}